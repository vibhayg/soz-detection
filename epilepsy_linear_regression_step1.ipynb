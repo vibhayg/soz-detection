{
 "cells": [
  {
   "cell_type": "code",
   "execution_count": 2,
   "id": "63047c75",
   "metadata": {},
   "outputs": [],
   "source": [
    "import numpy as np\n",
    "import matplotlib\n",
    "import pandas as pd\n",
    "import mne\n",
    "import os\n",
    "from pathlib import Path"
   ]
  },
  {
   "cell_type": "code",
   "execution_count": 3,
   "id": "37c66cd5",
   "metadata": {},
   "outputs": [],
   "source": [
    "from IPython.core.interactiveshell import InteractiveShell\n",
    "InteractiveShell.ast_node_interactivity = \"all\""
   ]
  },
  {
   "cell_type": "code",
   "execution_count": 4,
   "id": "c66f9971",
   "metadata": {},
   "outputs": [],
   "source": [
    "pd.set_option('display.max_columns', 65) #replace n with the number of columns you want to see completely\n",
    "pd.set_option('display.max_rows', 1200000) "
   ]
  },
  {
   "cell_type": "code",
   "execution_count": 5,
   "id": "d0bd3c2e",
   "metadata": {},
   "outputs": [
    {
     "name": "stdout",
     "output_type": "stream",
     "text": [
      "['../ds003498-download/sub-02/ses-interictalsleep/ieeg', '../ds003498-download/sub-04/ses-interictalsleep/ieeg', '../ds003498-download/sub-05/ses-interictalsleep/ieeg', '../ds003498-download/sub-06/ses-interictalsleep/ieeg', '../ds003498-download/sub-07/ses-interictalsleep/ieeg', '../ds003498-download/sub-08/ses-interictalsleep/ieeg', '../ds003498-download/sub-09/ses-interictalsleep/ieeg']\n"
     ]
    }
   ],
   "source": [
    "#2, 4, 5, 6, 7, 8\n",
    "\n",
    "set = []\n",
    "\n",
    "for j in [2, 4, 5, 6, 7, 8, 9]:\n",
    "    set.append(f\"../ds003498-download/sub-0{j}/ses-interictalsleep/ieeg\")\n",
    "print(set)\n",
    "    \n",
    "\n",
    "\n",
    "\n",
    "\n",
    "\n",
    "#the above prints list of all sub folders\n",
    "\n",
    "\n",
    "    \n",
    "\n",
    "\n"
   ]
  },
  {
   "cell_type": "code",
   "execution_count": 6,
   "id": "29211c91",
   "metadata": {},
   "outputs": [
    {
     "name": "stdout",
     "output_type": "stream",
     "text": [
      "[[], [], [], [], [], [], []]\n"
     ]
    }
   ],
   "source": [
    "# assign directory\n",
    "#we want a list of all vhdr files in the folder\n",
    "import glob\n",
    "file_names = []\n",
    "for s in set:\n",
    "    files = glob.glob(f'{s}/_*ses-interictalsleep_run-01_ieeg.vhdr')\n",
    "    if files != None:\n",
    "        file_names.append(files)\n",
    "print(file_names)\n",
    "\n",
    "\n",
    "\n",
    "\n",
    "\n",
    "\n",
    "\n",
    "\n",
    "    "
   ]
  },
  {
   "cell_type": "code",
   "execution_count": 7,
   "id": "2f6e0e3d",
   "metadata": {},
   "outputs": [
    {
     "name": "stdout",
     "output_type": "stream",
     "text": [
      "[]\n"
     ]
    }
   ],
   "source": [
    "flat_list = []\n",
    "for sublist in file_names:\n",
    "    for item in sublist:\n",
    "        flat_list.append(item)\n",
    "filenames = flat_list\n",
    "print(filenames)\n"
   ]
  },
  {
   "cell_type": "code",
   "execution_count": 1,
   "id": "26975726",
   "metadata": {},
   "outputs": [
    {
     "ename": "NameError",
     "evalue": "name 'filenames' is not defined",
     "output_type": "error",
     "traceback": [
      "\u001b[0;31m---------------------------------------------------------------------------\u001b[0m",
      "\u001b[0;31mNameError\u001b[0m                                 Traceback (most recent call last)",
      "Cell \u001b[0;32mIn [1], line 3\u001b[0m\n\u001b[1;32m      1\u001b[0m list_of_frames \u001b[38;5;241m=\u001b[39m []\n\u001b[0;32m----> 3\u001b[0m \u001b[38;5;28;01mfor\u001b[39;00m file \u001b[38;5;129;01min\u001b[39;00m \u001b[43mfilenames\u001b[49m:\n\u001b[1;32m      4\u001b[0m     data \u001b[38;5;241m=\u001b[39m mne\u001b[38;5;241m.\u001b[39mio\u001b[38;5;241m.\u001b[39mread_raw_brainvision(file)\n\u001b[1;32m      5\u001b[0m     df \u001b[38;5;241m=\u001b[39m data\u001b[38;5;241m.\u001b[39mto_data_frame()\n",
      "\u001b[0;31mNameError\u001b[0m: name 'filenames' is not defined"
     ]
    }
   ],
   "source": [
    "list_of_frames = []\n",
    "\n",
    "for file in filenames:\n",
    "    data = mne.io.read_raw_brainvision(file)\n",
    "    df = data.to_data_frame()\n",
    "    df.shape\n",
    "    list_of_frames.append(df)\n",
    "dfs = pd.concat(list_of_frames)\n",
    "dfs.head()\n",
    "dfs.shape\n",
    "\n",
    "#2, 4, 5, 6, 7, 8"
   ]
  },
  {
   "cell_type": "code",
   "execution_count": null,
   "id": "e6355cc3",
   "metadata": {},
   "outputs": [],
   "source": [
    "dfs.shape"
   ]
  },
  {
   "cell_type": "code",
   "execution_count": null,
   "id": "2493b0cf",
   "metadata": {},
   "outputs": [],
   "source": []
  },
  {
   "cell_type": "code",
   "execution_count": null,
   "id": "dcc17968",
   "metadata": {},
   "outputs": [],
   "source": []
  },
  {
   "cell_type": "code",
   "execution_count": null,
   "id": "6c33494f",
   "metadata": {},
   "outputs": [],
   "source": []
  },
  {
   "cell_type": "code",
   "execution_count": null,
   "id": "207514e4",
   "metadata": {},
   "outputs": [],
   "source": [
    "#linear regression\n",
    "\n",
    "from sklearn.linear_model import LinearRegression"
   ]
  },
  {
   "cell_type": "code",
   "execution_count": null,
   "id": "216a38ee",
   "metadata": {},
   "outputs": [],
   "source": [
    "epilepsy_types = pd.read_csv('../ds003498-download/participants.tsv', sep = '\\t')\n",
    "epilepsy_types"
   ]
  },
  {
   "cell_type": "code",
   "execution_count": null,
   "id": "59d7d23d",
   "metadata": {},
   "outputs": [],
   "source": [
    "X = dfs.loc[:,:]\n",
    "Y = epilepsy_types.loc[:, 'epilepsy']"
   ]
  },
  {
   "cell_type": "code",
   "execution_count": null,
   "id": "85ba407e",
   "metadata": {},
   "outputs": [],
   "source": [
    "Y"
   ]
  },
  {
   "cell_type": "code",
   "execution_count": null,
   "id": "21cb97e0",
   "metadata": {},
   "outputs": [],
   "source": []
  }
 ],
 "metadata": {
  "kernelspec": {
   "display_name": "Python 3 (ipykernel)",
   "language": "python",
   "name": "python3"
  },
  "language_info": {
   "codemirror_mode": {
    "name": "ipython",
    "version": 3
   },
   "file_extension": ".py",
   "mimetype": "text/x-python",
   "name": "python",
   "nbconvert_exporter": "python",
   "pygments_lexer": "ipython3",
   "version": "3.10.8"
  }
 },
 "nbformat": 4,
 "nbformat_minor": 5
}
