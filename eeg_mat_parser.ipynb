{
 "cells": [
  {
   "cell_type": "code",
   "execution_count": 2,
   "id": "3a18f374",
   "metadata": {},
   "outputs": [
    {
     "name": "stdout",
     "output_type": "stream",
     "text": [
      "Requirement already satisfied: h5py in /opt/homebrew/lib/python3.10/site-packages (3.7.0)\r\n",
      "Requirement already satisfied: numpy>=1.14.5 in /opt/homebrew/lib/python3.10/site-packages (from h5py) (1.23.4)\r\n"
     ]
    }
   ],
   "source": [
    "import numpy as np\n",
    "!pip install h5py\n",
    "import h5py\n",
    "from  scipy import *\n",
    "from  pylab import *\n",
    "import pandas as ps\n",
    "import torch"
   ]
  },
  {
   "cell_type": "code",
   "execution_count": 10,
   "id": "1358737e",
   "metadata": {},
   "outputs": [
    {
     "data": {
      "text/plain": [
       "{'__header__': b'MATLAB 5.0 MAT-file, Platform: PCWIN64, Created on: Thu Aug 23 15:05:07 2018',\n",
       " '__version__': '1.0',\n",
       " '__globals__': [],\n",
       " 'EEG': array([[-20.08159294,  -9.27510295, -12.76074848, ...,  -5.87520171,\n",
       "         -32.07236728,   5.24981809],\n",
       "        [-32.3147114 ,  -8.67005589, -15.39505681, ..., -25.09135377,\n",
       "         -41.61609408,  -1.97252457],\n",
       "        [-43.31151739,  -7.4641729 , -15.66926984, ..., -39.09007504,\n",
       "         -58.24639649,  -5.87333636],\n",
       "        ...,\n",
       "        [-12.39862983, -22.67489579, -52.13241059, ..., -80.40286388,\n",
       "         -84.89158761,  -6.21251361],\n",
       "        [-13.66709774, -22.63773662, -48.39573995, ..., -81.79936643,\n",
       "         -89.49037971,  -9.3596804 ],\n",
       "        [-15.61713628, -19.58942525, -41.20987618, ..., -81.79831329,\n",
       "         -91.65715362, -11.30207906]])}"
      ]
     },
     "execution_count": 10,
     "metadata": {},
     "output_type": "execute_result"
    }
   ],
   "source": [
    "import scipy.io\n",
    "mat = scipy.io.loadmat('../ID1/Sz1.mat')\n",
    "mat\n"
   ]
  },
  {
   "cell_type": "code",
   "execution_count": 9,
   "id": "fc202a03",
   "metadata": {},
   "outputs": [
    {
     "ename": "TypeError",
     "evalue": "'builtin_function_or_method' object is not subscriptable",
     "output_type": "error",
     "traceback": [
      "\u001b[0;31m---------------------------------------------------------------------------\u001b[0m",
      "\u001b[0;31mTypeError\u001b[0m                                 Traceback (most recent call last)",
      "Cell \u001b[0;32mIn [9], line 4\u001b[0m\n\u001b[1;32m      1\u001b[0m \u001b[38;5;28;01mimport\u001b[39;00m \u001b[38;5;21;01mnumpy\u001b[39;00m \u001b[38;5;28;01mas\u001b[39;00m \u001b[38;5;21;01mnp\u001b[39;00m\n\u001b[0;32m----> 4\u001b[0m torch\u001b[38;5;241m.\u001b[39mfrom_numpy(np\u001b[38;5;241m.\u001b[39marray(\u001b[43mf\u001b[49m\u001b[43m[\u001b[49m\u001b[38;5;124;43m'\u001b[39;49m\u001b[38;5;124;43mEEG\u001b[39;49m\u001b[38;5;124;43m'\u001b[39;49m\u001b[43m]\u001b[49m[Seizure_begin[Patient\u001b[38;5;241m-\u001b[39m\u001b[38;5;241m1\u001b[39m][i]\u001b[38;5;241m*\u001b[39mfs:Seizure_end[Patient\u001b[38;5;241m-\u001b[39m\u001b[38;5;241m1\u001b[39m][i]\u001b[38;5;241m*\u001b[39mfs, :]))\u001b[38;5;241m.\u001b[39mcuda()\u001b[38;5;241m.\u001b[39mt()\n",
      "\u001b[0;31mTypeError\u001b[0m: 'builtin_function_or_method' object is not subscriptable"
     ]
    }
   ],
   "source": [
    "import numpy as np\n",
    "\n",
    "\n",
    "torch.from_numpy(np.array(f['EEG'][Seizure_begin[Patient-1][i]*fs:Seizure_end[Patient-1][i]*fs, :])).cuda().t()"
   ]
  },
  {
   "cell_type": "code",
   "execution_count": 7,
   "id": "191ec9bc",
   "metadata": {},
   "outputs": [
    {
     "data": {
      "text/plain": [
       "{'__header__': b'MATLAB 5.0 MAT-file, Platform: PCWIN64, Created on: Thu Aug 23 15:05:07 2018',\n",
       " '__version__': '1.0',\n",
       " '__globals__': [],\n",
       " 'EEG': array([[-20.08159294,  -9.27510295, -12.76074848, ...,  -5.87520171,\n",
       "         -32.07236728,   5.24981809],\n",
       "        [-32.3147114 ,  -8.67005589, -15.39505681, ..., -25.09135377,\n",
       "         -41.61609408,  -1.97252457],\n",
       "        [-43.31151739,  -7.4641729 , -15.66926984, ..., -39.09007504,\n",
       "         -58.24639649,  -5.87333636],\n",
       "        ...,\n",
       "        [-12.39862983, -22.67489579, -52.13241059, ..., -80.40286388,\n",
       "         -84.89158761,  -6.21251361],\n",
       "        [-13.66709774, -22.63773662, -48.39573995, ..., -81.79936643,\n",
       "         -89.49037971,  -9.3596804 ],\n",
       "        [-15.61713628, -19.58942525, -41.20987618, ..., -81.79831329,\n",
       "         -91.65715362, -11.30207906]])}"
      ]
     },
     "execution_count": 7,
     "metadata": {},
     "output_type": "execute_result"
    }
   ],
   "source": [
    "mat"
   ]
  },
  {
   "cell_type": "code",
   "execution_count": null,
   "id": "3b28efba",
   "metadata": {},
   "outputs": [],
   "source": []
  }
 ],
 "metadata": {
  "kernelspec": {
   "display_name": "Python 3 (ipykernel)",
   "language": "python",
   "name": "python3"
  },
  "language_info": {
   "codemirror_mode": {
    "name": "ipython",
    "version": 3
   },
   "file_extension": ".py",
   "mimetype": "text/x-python",
   "name": "python",
   "nbconvert_exporter": "python",
   "pygments_lexer": "ipython3",
   "version": "3.10.8"
  }
 },
 "nbformat": 4,
 "nbformat_minor": 5
}
