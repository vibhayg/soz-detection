{
 "cells": [
  {
   "cell_type": "code",
   "execution_count": 1,
   "id": "958aedaa",
   "metadata": {},
   "outputs": [],
   "source": [
    "\n",
    "import pandas as pd, numpy as np\n",
    "import matplotlib.pyplot as plt\n",
    "import seaborn as sns; sns.set_theme(style=\"whitegrid\")\n",
    "from sklearn.cluster import KMeans\n",
    "\n",
    "# DataFrame with two features and sample names\n",
    "df = pd.DataFrame({\n",
    "    \"Sample Name\": [\"Sample \"+str(i) for i in range(6)],\n",
    "    \"Feature1\": [6, 5, 1, 2, 3, 4],\n",
    "    \"Feature2\": [5, 6, 2, 1, 4, 3],\n",
    "})\n"
   ]
  },
  {
   "cell_type": "code",
   "execution_count": 2,
   "id": "56706451",
   "metadata": {},
   "outputs": [
    {
     "data": {
      "image/png": "[encoded data removed]",
      "text/plain": [
       "<Figure size 1600x600 with 1 Axes>"
      ]
     },
     "metadata": {},
     "output_type": "display_data"
    }
   ],
   "source": [
    "df\n",
    "\n",
    "# Dataframe 2D Plot\n",
    "plt.figure(figsize=(16, 6))\n",
    "ax = sns.scatterplot(data=df, x=\"Feature1\", y=\"Feature2\", s=200)\n",
    "ax.set_title(\"Points to Cluster\", fontsize='xx-large', y=1.05);"
   ]
  },
  {
   "cell_type": "code",
   "execution_count": 3,
   "id": "15389270",
   "metadata": {},
   "outputs": [
    {
     "name": "stderr",
     "output_type": "stream",
     "text": [
      "/opt/homebrew/lib/python3.10/site-packages/sklearn/cluster/_kmeans.py:870: FutureWarning: The default value of `n_init` will change from 10 to 'auto' in 1.4. Set the value of `n_init` explicitly to suppress the warning\n",
      "  warnings.warn(\n"
     ]
    },
    {
     "data": {
      "text/html": [
       "<div>\n",
       "<style scoped>\n",
       "    .dataframe tbody tr th:only-of-type {\n",
       "        vertical-align: middle;\n",
       "    }\n",
       "\n",
       "    .dataframe tbody tr th {\n",
       "        vertical-align: top;\n",
       "    }\n",
       "\n",
       "    .dataframe thead th {\n",
       "        text-align: right;\n",
       "    }\n",
       "</style>\n",
       "<table border=\"1\" class=\"dataframe\">\n",
       "  <thead>\n",
       "    <tr style=\"text-align: right;\">\n",
       "      <th></th>\n",
       "      <th>Sample Name</th>\n",
       "      <th>Feature1</th>\n",
       "      <th>Feature2</th>\n",
       "      <th>Cluster</th>\n",
       "      <th>Cluster Centroid D1</th>\n",
       "      <th>Cluster Centroid D2</th>\n",
       "    </tr>\n",
       "  </thead>\n",
       "  <tbody>\n",
       "    <tr>\n",
       "      <th>0</th>\n",
       "      <td>Sample 0</td>\n",
       "      <td>6</td>\n",
       "      <td>5</td>\n",
       "      <td>2</td>\n",
       "      <td>5.5</td>\n",
       "      <td>5.5</td>\n",
       "    </tr>\n",
       "    <tr>\n",
       "      <th>1</th>\n",
       "      <td>Sample 1</td>\n",
       "      <td>5</td>\n",
       "      <td>6</td>\n",
       "      <td>2</td>\n",
       "      <td>5.5</td>\n",
       "      <td>5.5</td>\n",
       "    </tr>\n",
       "    <tr>\n",
       "      <th>2</th>\n",
       "      <td>Sample 2</td>\n",
       "      <td>1</td>\n",
       "      <td>2</td>\n",
       "      <td>1</td>\n",
       "      <td>1.5</td>\n",
       "      <td>1.5</td>\n",
       "    </tr>\n",
       "    <tr>\n",
       "      <th>3</th>\n",
       "      <td>Sample 3</td>\n",
       "      <td>2</td>\n",
       "      <td>1</td>\n",
       "      <td>1</td>\n",
       "      <td>1.5</td>\n",
       "      <td>1.5</td>\n",
       "    </tr>\n",
       "    <tr>\n",
       "      <th>4</th>\n",
       "      <td>Sample 4</td>\n",
       "      <td>3</td>\n",
       "      <td>4</td>\n",
       "      <td>0</td>\n",
       "      <td>3.5</td>\n",
       "      <td>3.5</td>\n",
       "    </tr>\n",
       "    <tr>\n",
       "      <th>5</th>\n",
       "      <td>Sample 5</td>\n",
       "      <td>4</td>\n",
       "      <td>3</td>\n",
       "      <td>0</td>\n",
       "      <td>3.5</td>\n",
       "      <td>3.5</td>\n",
       "    </tr>\n",
       "  </tbody>\n",
       "</table>\n",
       "</div>"
      ],
      "text/plain": [
       "  Sample Name  Feature1  Feature2  Cluster  Cluster Centroid D1  \\\n",
       "0    Sample 0         6         5        2                  5.5   \n",
       "1    Sample 1         5         6        2                  5.5   \n",
       "2    Sample 2         1         2        1                  1.5   \n",
       "3    Sample 3         2         1        1                  1.5   \n",
       "4    Sample 4         3         4        0                  3.5   \n",
       "5    Sample 5         4         3        0                  3.5   \n",
       "\n",
       "   Cluster Centroid D2  \n",
       "0                  5.5  \n",
       "1                  5.5  \n",
       "2                  1.5  \n",
       "3                  1.5  \n",
       "4                  3.5  \n",
       "5                  3.5  "
      ]
     },
     "execution_count": 3,
     "metadata": {},
     "output_type": "execute_result"
    }
   ],
   "source": [
    "kms = KMeans(n_clusters=3, random_state=1).fit(df[['Feature1', 'Feature2']])\n",
    "df['Cluster'] = kms.labels_\n",
    "df['Cluster Centroid D1'] = df['Cluster'].apply(lambda label: kms.cluster_centers_[label][0])\n",
    "df['Cluster Centroid D2'] = df['Cluster'].apply(lambda label: kms.cluster_centers_[label][1])\n",
    "df"
   ]
  },
  {
   "cell_type": "code",
   "execution_count": 4,
   "id": "c7be1040",
   "metadata": {},
   "outputs": [
    {
     "name": "stdout",
     "output_type": "stream",
     "text": [
      "Features: \n",
      "['Feature1', 'Feature2', 'Cluster', 'Cluster Centroid D1']\n",
      "Centroids \n",
      "[[3.5 3.5]\n",
      " [1.5 1.5]\n",
      " [5.5 5.5]]\n"
     ]
    }
   ],
   "source": [
    "features = df.columns.tolist()[1:-1]\n",
    "print(f\"Features: \\n{features}\")\n",
    "\n",
    "centroids = kms.cluster_centers_\n",
    "print(f\"Centroids \\n{centroids}\")"
   ]
  },
  {
   "cell_type": "code",
   "execution_count": 5,
   "id": "4c37f4d4",
   "metadata": {},
   "outputs": [
    {
     "name": "stdout",
     "output_type": "stream",
     "text": [
      "Sorted Feature/Dimension Indexes for Each Centroid in Descending Order: \n",
      "[[1 0]\n",
      " [1 0]\n",
      " [1 0]]\n",
      "\n",
      "Sorted Feature/Dimension Values for Each Centroid in Descending Order: \n",
      "[[3.5 3.5]\n",
      " [1.5 1.5]\n",
      " [5.5 5.5]]\n"
     ]
    }
   ],
   "source": [
    "sorted_centroid_features_idx = centroids.argsort(axis=1)[:,::-1]\n",
    "print(f\"Sorted Feature/Dimension Indexes for Each Centroid in Descending Order: \\n{sorted_centroid_features_idx}\")\n",
    "\n",
    "print()\n",
    "\n",
    "sorted_centroid_features_values = np.take_along_axis(centroids, sorted_centroid_features_idx, axis=1)\n",
    "print(f\"Sorted Feature/Dimension Values for Each Centroid in Descending Order: \\n{sorted_centroid_features_values}\")"
   ]
  },
  {
   "cell_type": "code",
   "execution_count": 7,
   "id": "a5b2a983",
   "metadata": {},
   "outputs": [
    {
     "name": "stdout",
     "output_type": "stream",
     "text": [
      "[('Feature2', 3.5), ('Feature1', 3.5)]\n"
     ]
    }
   ],
   "source": [
    "first_features_in_centroid_1 = centroids[0][sorted_centroid_features_idx[0]]\n",
    "print(list(\n",
    "        zip(\n",
    "            [features[feature] for feature in sorted_centroid_features_idx[0]], \n",
    "            first_features_in_centroid_1\n",
    "        )\n",
    "    ))\n",
    "    "
   ]
  },
  {
   "cell_type": "code",
   "execution_count": 10,
   "id": "bfe27bda",
   "metadata": {},
   "outputs": [],
   "source": [
    "df.loc[[4,5], [\"Feature1\"]] += df.loc[[4,5], [\"Feature1\"]] + 30 "
   ]
  },
  {
   "cell_type": "code",
   "execution_count": 11,
   "id": "2fd9ed12",
   "metadata": {},
   "outputs": [
    {
     "data": {
      "text/html": [
       "<div>\n",
       "<style scoped>\n",
       "    .dataframe tbody tr th:only-of-type {\n",
       "        vertical-align: middle;\n",
       "    }\n",
       "\n",
       "    .dataframe tbody tr th {\n",
       "        vertical-align: top;\n",
       "    }\n",
       "\n",
       "    .dataframe thead th {\n",
       "        text-align: right;\n",
       "    }\n",
       "</style>\n",
       "<table border=\"1\" class=\"dataframe\">\n",
       "  <thead>\n",
       "    <tr style=\"text-align: right;\">\n",
       "      <th></th>\n",
       "      <th>Sample Name</th>\n",
       "      <th>Feature1</th>\n",
       "      <th>Feature2</th>\n",
       "      <th>Cluster</th>\n",
       "      <th>Cluster Centroid D1</th>\n",
       "      <th>Cluster Centroid D2</th>\n",
       "    </tr>\n",
       "  </thead>\n",
       "  <tbody>\n",
       "    <tr>\n",
       "      <th>0</th>\n",
       "      <td>Sample 0</td>\n",
       "      <td>6</td>\n",
       "      <td>5</td>\n",
       "      <td>2</td>\n",
       "      <td>5.5</td>\n",
       "      <td>5.5</td>\n",
       "    </tr>\n",
       "    <tr>\n",
       "      <th>1</th>\n",
       "      <td>Sample 1</td>\n",
       "      <td>5</td>\n",
       "      <td>6</td>\n",
       "      <td>2</td>\n",
       "      <td>5.5</td>\n",
       "      <td>5.5</td>\n",
       "    </tr>\n",
       "    <tr>\n",
       "      <th>2</th>\n",
       "      <td>Sample 2</td>\n",
       "      <td>1</td>\n",
       "      <td>2</td>\n",
       "      <td>1</td>\n",
       "      <td>1.5</td>\n",
       "      <td>1.5</td>\n",
       "    </tr>\n",
       "    <tr>\n",
       "      <th>3</th>\n",
       "      <td>Sample 3</td>\n",
       "      <td>2</td>\n",
       "      <td>1</td>\n",
       "      <td>1</td>\n",
       "      <td>1.5</td>\n",
       "      <td>1.5</td>\n",
       "    </tr>\n",
       "    <tr>\n",
       "      <th>4</th>\n",
       "      <td>Sample 4</td>\n",
       "      <td>102</td>\n",
       "      <td>4</td>\n",
       "      <td>0</td>\n",
       "      <td>3.5</td>\n",
       "      <td>3.5</td>\n",
       "    </tr>\n",
       "    <tr>\n",
       "      <th>5</th>\n",
       "      <td>Sample 5</td>\n",
       "      <td>106</td>\n",
       "      <td>3</td>\n",
       "      <td>0</td>\n",
       "      <td>3.5</td>\n",
       "      <td>3.5</td>\n",
       "    </tr>\n",
       "  </tbody>\n",
       "</table>\n",
       "</div>"
      ],
      "text/plain": [
       "  Sample Name  Feature1  Feature2  Cluster  Cluster Centroid D1  \\\n",
       "0    Sample 0         6         5        2                  5.5   \n",
       "1    Sample 1         5         6        2                  5.5   \n",
       "2    Sample 2         1         2        1                  1.5   \n",
       "3    Sample 3         2         1        1                  1.5   \n",
       "4    Sample 4       102         4        0                  3.5   \n",
       "5    Sample 5       106         3        0                  3.5   \n",
       "\n",
       "   Cluster Centroid D2  \n",
       "0                  5.5  \n",
       "1                  5.5  \n",
       "2                  1.5  \n",
       "3                  1.5  \n",
       "4                  3.5  \n",
       "5                  3.5  "
      ]
     },
     "execution_count": 11,
     "metadata": {},
     "output_type": "execute_result"
    }
   ],
   "source": [
    "df"
   ]
  },
  {
   "cell_type": "code",
   "execution_count": 9,
   "id": "269671a3",
   "metadata": {},
   "outputs": [
    {
     "data": {
      "text/html": [
       "<div>\n",
       "<style scoped>\n",
       "    .dataframe tbody tr th:only-of-type {\n",
       "        vertical-align: middle;\n",
       "    }\n",
       "\n",
       "    .dataframe tbody tr th {\n",
       "        vertical-align: top;\n",
       "    }\n",
       "\n",
       "    .dataframe thead th {\n",
       "        text-align: right;\n",
       "    }\n",
       "</style>\n",
       "<table border=\"1\" class=\"dataframe\">\n",
       "  <thead>\n",
       "    <tr style=\"text-align: right;\">\n",
       "      <th></th>\n",
       "      <th>Feature1</th>\n",
       "    </tr>\n",
       "  </thead>\n",
       "  <tbody>\n",
       "    <tr>\n",
       "      <th>4</th>\n",
       "      <td>36</td>\n",
       "    </tr>\n",
       "    <tr>\n",
       "      <th>5</th>\n",
       "      <td>38</td>\n",
       "    </tr>\n",
       "  </tbody>\n",
       "</table>\n",
       "</div>"
      ],
      "text/plain": [
       "   Feature1\n",
       "4        36\n",
       "5        38"
      ]
     },
     "execution_count": 9,
     "metadata": {},
     "output_type": "execute_result"
    }
   ],
   "source": [
    "df.loc[[4,5], [\"Feature1\"]]"
   ]
  },
  {
   "cell_type": "code",
   "execution_count": null,
   "id": "96c3fac1",
   "metadata": {},
   "outputs": [],
   "source": []
  }
 ],
 "metadata": {
  "kernelspec": {
   "display_name": "Python 3 (ipykernel)",
   "language": "python",
   "name": "python3"
  },
  "language_info": {
   "codemirror_mode": {
    "name": "ipython",
    "version": 3
   },
   "file_extension": ".py",
   "mimetype": "text/x-python",
   "name": "python",
   "nbconvert_exporter": "python",
   "pygments_lexer": "ipython3",
   "version": "3.10.8"
  }
 },
 "nbformat": 4,
 "nbformat_minor": 5
}
