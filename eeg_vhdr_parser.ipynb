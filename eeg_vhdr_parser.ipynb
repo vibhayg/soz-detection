{
 "cells": [
  {
   "cell_type": "code",
   "execution_count": null,
   "id": "60faada6",
   "metadata": {},
   "outputs": [],
   "source": [
    "set = []\n",
    "\n",
    "for i in range(0, 3):\n",
    "    for j in range(0, 10):\n",
    "        set.append(f\"../ds003498-download/sub-{i}{j}/ses-interictalsleep/ieeg\")\n",
    "print(set)\n",
    "\n",
    "import glob\n",
    "file_names_vhdr = []\n",
    "for s in set:\n",
    "    files = glob.glob(f'{s}/*_run-01_ieeg.vhdr')\n",
    "    file_names.append(files)\n",
    "print(file_names_vhdr)\n",
    "len(file_names_vhdr)\n",
    "\n",
    "flat_list = []\n",
    "for sublist in file_names_vhdr:\n",
    "    for item in sublist:\n",
    "        flat_list.append(item)\n",
    "filenames_vhdr = flat_list\n",
    "print(filenames_vhdr)\n",
    "\n",
    "data = mne.io.read_raw_brainvision('../ds003498-download/sub-07/ses-interictalsleep/ieeg/sub-07_ses-interictalsleep_run-01_ieeg.vhdr')\n",
    "df = data.to_data_frame()\n",
    "\n",
    "#electrode_names = list(df.columns)\n",
    "electrode_names\n",
    "len(electrode_names)\n",
    "electrode_names.remove('time')\n",
    "electrode_names"
   ]
  }
 ],
 "metadata": {
  "kernelspec": {
   "display_name": "Python 3 (ipykernel)",
   "language": "python",
   "name": "python3"
  },
  "language_info": {
   "codemirror_mode": {
    "name": "ipython",
    "version": 3
   },
   "file_extension": ".py",
   "mimetype": "text/x-python",
   "name": "python",
   "nbconvert_exporter": "python",
   "pygments_lexer": "ipython3",
   "version": "3.10.8"
  }
 },
 "nbformat": 4,
 "nbformat_minor": 5
}
