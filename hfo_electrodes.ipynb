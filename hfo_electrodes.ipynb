{
 "cells": [
  {
   "cell_type": "code",
   "execution_count": 2,
   "id": "31b48f6f",
   "metadata": {},
   "outputs": [],
   "source": [
    "import numpy as np\n",
    "import pandas as pd\n",
    "import matplotlib\n",
    "import mne\n",
    "import os\n",
    "from pathlib import Path"
   ]
  },
  {
   "cell_type": "code",
   "execution_count": 3,
   "id": "59145e3c",
   "metadata": {},
   "outputs": [],
   "source": [
    "from IPython.core.interactiveshell import InteractiveShell\n",
    "InteractiveShell.ast_node_interactivity = \"all\""
   ]
  },
  {
   "cell_type": "code",
   "execution_count": 4,
   "id": "0dc5bdbf",
   "metadata": {},
   "outputs": [
    {
     "name": "stdout",
     "output_type": "stream",
     "text": [
      "['../ds003498-download/sub-00/ses-interictalsleep/ieeg', '../ds003498-download/sub-01/ses-interictalsleep/ieeg', '../ds003498-download/sub-02/ses-interictalsleep/ieeg', '../ds003498-download/sub-03/ses-interictalsleep/ieeg', '../ds003498-download/sub-04/ses-interictalsleep/ieeg', '../ds003498-download/sub-05/ses-interictalsleep/ieeg', '../ds003498-download/sub-06/ses-interictalsleep/ieeg', '../ds003498-download/sub-07/ses-interictalsleep/ieeg', '../ds003498-download/sub-08/ses-interictalsleep/ieeg', '../ds003498-download/sub-09/ses-interictalsleep/ieeg', '../ds003498-download/sub-10/ses-interictalsleep/ieeg', '../ds003498-download/sub-11/ses-interictalsleep/ieeg', '../ds003498-download/sub-12/ses-interictalsleep/ieeg', '../ds003498-download/sub-13/ses-interictalsleep/ieeg', '../ds003498-download/sub-14/ses-interictalsleep/ieeg', '../ds003498-download/sub-15/ses-interictalsleep/ieeg', '../ds003498-download/sub-16/ses-interictalsleep/ieeg', '../ds003498-download/sub-17/ses-interictalsleep/ieeg', '../ds003498-download/sub-18/ses-interictalsleep/ieeg', '../ds003498-download/sub-19/ses-interictalsleep/ieeg', '../ds003498-download/sub-20/ses-interictalsleep/ieeg', '../ds003498-download/sub-21/ses-interictalsleep/ieeg', '../ds003498-download/sub-22/ses-interictalsleep/ieeg', '../ds003498-download/sub-23/ses-interictalsleep/ieeg', '../ds003498-download/sub-24/ses-interictalsleep/ieeg', '../ds003498-download/sub-25/ses-interictalsleep/ieeg', '../ds003498-download/sub-26/ses-interictalsleep/ieeg', '../ds003498-download/sub-27/ses-interictalsleep/ieeg', '../ds003498-download/sub-28/ses-interictalsleep/ieeg', '../ds003498-download/sub-29/ses-interictalsleep/ieeg']\n"
     ]
    }
   ],
   "source": [
    "set = []\n",
    "\n",
    "for i in range(0, 3):\n",
    "    for j in range(0, 10):\n",
    "        set.append(f\"../ds003498-download/sub-{i}{j}/ses-interictalsleep/ieeg\")\n",
    "print(set)"
   ]
  },
  {
   "cell_type": "code",
   "execution_count": 5,
   "id": "938e9c01",
   "metadata": {},
   "outputs": [
    {
     "name": "stdout",
     "output_type": "stream",
     "text": [
      "[[], ['../ds003498-download/sub-01/ses-interictalsleep/ieeg/sub-01_ses-interictalsleep_run-01_ieeg.vhdr'], ['../ds003498-download/sub-02/ses-interictalsleep/ieeg/sub-02_ses-interictalsleep_run-01_ieeg.vhdr'], ['../ds003498-download/sub-03/ses-interictalsleep/ieeg/sub-03_ses-interictalsleep_run-01_ieeg.vhdr'], ['../ds003498-download/sub-04/ses-interictalsleep/ieeg/sub-04_ses-interictalsleep_run-01_ieeg.vhdr'], ['../ds003498-download/sub-05/ses-interictalsleep/ieeg/sub-05_ses-interictalsleep_run-01_ieeg.vhdr'], ['../ds003498-download/sub-06/ses-interictalsleep/ieeg/sub-06_ses-interictalsleep_run-01_ieeg.vhdr'], ['../ds003498-download/sub-07/ses-interictalsleep/ieeg/sub-07_ses-interictalsleep_run-01_ieeg.vhdr'], ['../ds003498-download/sub-08/ses-interictalsleep/ieeg/sub-08_ses-interictalsleep_run-01_ieeg.vhdr'], ['../ds003498-download/sub-09/ses-interictalsleep/ieeg/sub-09_ses-interictalsleep_run-01_ieeg.vhdr'], ['../ds003498-download/sub-10/ses-interictalsleep/ieeg/sub-10_ses-interictalsleep_run-01_ieeg.vhdr'], ['../ds003498-download/sub-11/ses-interictalsleep/ieeg/sub-11_ses-interictalsleep_run-01_ieeg.vhdr'], ['../ds003498-download/sub-12/ses-interictalsleep/ieeg/sub-12_ses-interictalsleep_run-01_ieeg.vhdr'], ['../ds003498-download/sub-13/ses-interictalsleep/ieeg/sub-13_ses-interictalsleep_run-01_ieeg.vhdr'], ['../ds003498-download/sub-14/ses-interictalsleep/ieeg/sub-14_ses-interictalsleep_run-01_ieeg.vhdr'], ['../ds003498-download/sub-15/ses-interictalsleep/ieeg/sub-15_ses-interictalsleep_run-01_ieeg.vhdr'], ['../ds003498-download/sub-16/ses-interictalsleep/ieeg/sub-16_ses-interictalsleep_run-01_ieeg.vhdr'], ['../ds003498-download/sub-17/ses-interictalsleep/ieeg/sub-17_ses-interictalsleep_run-01_ieeg.vhdr'], ['../ds003498-download/sub-18/ses-interictalsleep/ieeg/sub-18_ses-interictalsleep_run-01_ieeg.vhdr'], ['../ds003498-download/sub-19/ses-interictalsleep/ieeg/sub-19_ses-interictalsleep_run-01_ieeg.vhdr'], ['../ds003498-download/sub-20/ses-interictalsleep/ieeg/sub-20_ses-interictalsleep_run-01_ieeg.vhdr'], [], [], [], [], [], [], [], [], []]\n"
     ]
    },
    {
     "data": {
      "text/plain": [
       "30"
      ]
     },
     "execution_count": 5,
     "metadata": {},
     "output_type": "execute_result"
    }
   ],
   "source": [
    "import glob\n",
    "file_names = []\n",
    "for s in set:\n",
    "    files = glob.glob(f'{s}/*_run-01_ieeg.vhdr')\n",
    "    file_names.append(files)\n",
    "print(file_names)\n",
    "len(file_names)\n"
   ]
  },
  {
   "cell_type": "code",
   "execution_count": 6,
   "id": "3917ccb8",
   "metadata": {},
   "outputs": [
    {
     "name": "stdout",
     "output_type": "stream",
     "text": [
      "['../ds003498-download/sub-01/ses-interictalsleep/ieeg/sub-01_ses-interictalsleep_run-01_ieeg.vhdr', '../ds003498-download/sub-02/ses-interictalsleep/ieeg/sub-02_ses-interictalsleep_run-01_ieeg.vhdr', '../ds003498-download/sub-03/ses-interictalsleep/ieeg/sub-03_ses-interictalsleep_run-01_ieeg.vhdr', '../ds003498-download/sub-04/ses-interictalsleep/ieeg/sub-04_ses-interictalsleep_run-01_ieeg.vhdr', '../ds003498-download/sub-05/ses-interictalsleep/ieeg/sub-05_ses-interictalsleep_run-01_ieeg.vhdr', '../ds003498-download/sub-06/ses-interictalsleep/ieeg/sub-06_ses-interictalsleep_run-01_ieeg.vhdr', '../ds003498-download/sub-07/ses-interictalsleep/ieeg/sub-07_ses-interictalsleep_run-01_ieeg.vhdr', '../ds003498-download/sub-08/ses-interictalsleep/ieeg/sub-08_ses-interictalsleep_run-01_ieeg.vhdr', '../ds003498-download/sub-09/ses-interictalsleep/ieeg/sub-09_ses-interictalsleep_run-01_ieeg.vhdr', '../ds003498-download/sub-10/ses-interictalsleep/ieeg/sub-10_ses-interictalsleep_run-01_ieeg.vhdr', '../ds003498-download/sub-11/ses-interictalsleep/ieeg/sub-11_ses-interictalsleep_run-01_ieeg.vhdr', '../ds003498-download/sub-12/ses-interictalsleep/ieeg/sub-12_ses-interictalsleep_run-01_ieeg.vhdr', '../ds003498-download/sub-13/ses-interictalsleep/ieeg/sub-13_ses-interictalsleep_run-01_ieeg.vhdr', '../ds003498-download/sub-14/ses-interictalsleep/ieeg/sub-14_ses-interictalsleep_run-01_ieeg.vhdr', '../ds003498-download/sub-15/ses-interictalsleep/ieeg/sub-15_ses-interictalsleep_run-01_ieeg.vhdr', '../ds003498-download/sub-16/ses-interictalsleep/ieeg/sub-16_ses-interictalsleep_run-01_ieeg.vhdr', '../ds003498-download/sub-17/ses-interictalsleep/ieeg/sub-17_ses-interictalsleep_run-01_ieeg.vhdr', '../ds003498-download/sub-18/ses-interictalsleep/ieeg/sub-18_ses-interictalsleep_run-01_ieeg.vhdr', '../ds003498-download/sub-19/ses-interictalsleep/ieeg/sub-19_ses-interictalsleep_run-01_ieeg.vhdr', '../ds003498-download/sub-20/ses-interictalsleep/ieeg/sub-20_ses-interictalsleep_run-01_ieeg.vhdr']\n"
     ]
    }
   ],
   "source": [
    "flat_list = []\n",
    "for sublist in file_names:\n",
    "    for item in sublist:\n",
    "        flat_list.append(item)\n",
    "filenames = flat_list\n",
    "print(filenames)"
   ]
  },
  {
   "cell_type": "code",
   "execution_count": 9,
   "id": "3b210e3a",
   "metadata": {},
   "outputs": [
    {
     "name": "stdout",
     "output_type": "stream",
     "text": [
      "Extracting parameters from ....\n"
     ]
    },
    {
     "ename": "OSError",
     "evalue": "The header file must be given to read the data, not a file with extension ''.",
     "output_type": "error",
     "traceback": [
      "\u001b[0;31m---------------------------------------------------------------------------\u001b[0m",
      "\u001b[0;31mOSError\u001b[0m                                   Traceback (most recent call last)",
      "Cell \u001b[0;32mIn [9], line 4\u001b[0m\n\u001b[1;32m      2\u001b[0m list_of_frames \u001b[38;5;241m=\u001b[39m []\n\u001b[1;32m      3\u001b[0m \u001b[38;5;28;01mfor\u001b[39;00m file \u001b[38;5;129;01min\u001b[39;00m \u001b[38;5;124m\"\u001b[39m\u001b[38;5;124m../ds003498-download/sub-01/ses-interictalsleep/ieeg/sub-01_ses-interictalsleep_run-01_channels.tsv\u001b[39m\u001b[38;5;124m\"\u001b[39m:\n\u001b[0;32m----> 4\u001b[0m     data \u001b[38;5;241m=\u001b[39m \u001b[43mmne\u001b[49m\u001b[38;5;241;43m.\u001b[39;49m\u001b[43mio\u001b[49m\u001b[38;5;241;43m.\u001b[39;49m\u001b[43mread_raw_brainvision\u001b[49m\u001b[43m(\u001b[49m\u001b[43mfile\u001b[49m\u001b[43m)\u001b[49m\n\u001b[1;32m      5\u001b[0m     df \u001b[38;5;241m=\u001b[39m data\u001b[38;5;241m.\u001b[39mto_data_frame()\n\u001b[1;32m      6\u001b[0m     df\u001b[38;5;241m.\u001b[39mshape\n",
      "File \u001b[0;32m/opt/homebrew/lib/python3.10/site-packages/mne/io/brainvision/brainvision.py:888\u001b[0m, in \u001b[0;36mread_raw_brainvision\u001b[0;34m(vhdr_fname, eog, misc, scale, preload, verbose)\u001b[0m\n\u001b[1;32m    854\u001b[0m \u001b[38;5;129m@fill_doc\u001b[39m\n\u001b[1;32m    855\u001b[0m \u001b[38;5;28;01mdef\u001b[39;00m \u001b[38;5;21mread_raw_brainvision\u001b[39m(vhdr_fname,\n\u001b[1;32m    856\u001b[0m                          eog\u001b[38;5;241m=\u001b[39m(\u001b[38;5;124m'\u001b[39m\u001b[38;5;124mHEOGL\u001b[39m\u001b[38;5;124m'\u001b[39m, \u001b[38;5;124m'\u001b[39m\u001b[38;5;124mHEOGR\u001b[39m\u001b[38;5;124m'\u001b[39m, \u001b[38;5;124m'\u001b[39m\u001b[38;5;124mVEOGb\u001b[39m\u001b[38;5;124m'\u001b[39m), misc\u001b[38;5;241m=\u001b[39m\u001b[38;5;124m'\u001b[39m\u001b[38;5;124mauto\u001b[39m\u001b[38;5;124m'\u001b[39m,\n\u001b[1;32m    857\u001b[0m                          scale\u001b[38;5;241m=\u001b[39m\u001b[38;5;241m1.\u001b[39m, preload\u001b[38;5;241m=\u001b[39m\u001b[38;5;28;01mFalse\u001b[39;00m, verbose\u001b[38;5;241m=\u001b[39m\u001b[38;5;28;01mNone\u001b[39;00m):\n\u001b[1;32m    858\u001b[0m     \u001b[38;5;124;03m\"\"\"Reader for Brain Vision EEG file.\u001b[39;00m\n\u001b[1;32m    859\u001b[0m \n\u001b[1;32m    860\u001b[0m \u001b[38;5;124;03m    Parameters\u001b[39;00m\n\u001b[0;32m   (...)\u001b[0m\n\u001b[1;32m    886\u001b[0m \u001b[38;5;124;03m    mne.io.Raw : Documentation of attribute and methods.\u001b[39;00m\n\u001b[1;32m    887\u001b[0m \u001b[38;5;124;03m    \"\"\"\u001b[39;00m\n\u001b[0;32m--> 888\u001b[0m     \u001b[38;5;28;01mreturn\u001b[39;00m \u001b[43mRawBrainVision\u001b[49m\u001b[43m(\u001b[49m\u001b[43mvhdr_fname\u001b[49m\u001b[38;5;241;43m=\u001b[39;49m\u001b[43mvhdr_fname\u001b[49m\u001b[43m,\u001b[49m\u001b[43m \u001b[49m\u001b[43meog\u001b[49m\u001b[38;5;241;43m=\u001b[39;49m\u001b[43meog\u001b[49m\u001b[43m,\u001b[49m\n\u001b[1;32m    889\u001b[0m \u001b[43m                          \u001b[49m\u001b[43mmisc\u001b[49m\u001b[38;5;241;43m=\u001b[39;49m\u001b[43mmisc\u001b[49m\u001b[43m,\u001b[49m\u001b[43m \u001b[49m\u001b[43mscale\u001b[49m\u001b[38;5;241;43m=\u001b[39;49m\u001b[43mscale\u001b[49m\u001b[43m,\u001b[49m\u001b[43m \u001b[49m\u001b[43mpreload\u001b[49m\u001b[38;5;241;43m=\u001b[39;49m\u001b[43mpreload\u001b[49m\u001b[43m,\u001b[49m\n\u001b[1;32m    890\u001b[0m \u001b[43m                          \u001b[49m\u001b[43mverbose\u001b[49m\u001b[38;5;241;43m=\u001b[39;49m\u001b[43mverbose\u001b[49m\u001b[43m)\u001b[49m\n",
      "File \u001b[0;32m<decorator-gen-242>:12\u001b[0m, in \u001b[0;36m__init__\u001b[0;34m(self, vhdr_fname, eog, misc, scale, preload, verbose)\u001b[0m\n",
      "File \u001b[0;32m/opt/homebrew/lib/python3.10/site-packages/mne/io/brainvision/brainvision.py:75\u001b[0m, in \u001b[0;36mRawBrainVision.__init__\u001b[0;34m(self, vhdr_fname, eog, misc, scale, preload, verbose)\u001b[0m\n\u001b[1;32m     72\u001b[0m ext \u001b[38;5;241m=\u001b[39m op\u001b[38;5;241m.\u001b[39msplitext(hdr_fname)[\u001b[38;5;241m-\u001b[39m\u001b[38;5;241m1\u001b[39m]\n\u001b[1;32m     73\u001b[0m ahdr_format \u001b[38;5;241m=\u001b[39m \u001b[38;5;28;01mTrue\u001b[39;00m \u001b[38;5;28;01mif\u001b[39;00m ext \u001b[38;5;241m==\u001b[39m \u001b[38;5;124m'\u001b[39m\u001b[38;5;124m.ahdr\u001b[39m\u001b[38;5;124m'\u001b[39m \u001b[38;5;28;01melse\u001b[39;00m \u001b[38;5;28;01mFalse\u001b[39;00m\n\u001b[1;32m     74\u001b[0m (info, data_fname, fmt, order, n_samples, mrk_fname, montage,\n\u001b[0;32m---> 75\u001b[0m  orig_units) \u001b[38;5;241m=\u001b[39m \u001b[43m_get_hdr_info\u001b[49m\u001b[43m(\u001b[49m\u001b[43mhdr_fname\u001b[49m\u001b[43m,\u001b[49m\u001b[43m \u001b[49m\u001b[43meog\u001b[49m\u001b[43m,\u001b[49m\u001b[43m \u001b[49m\u001b[43mmisc\u001b[49m\u001b[43m,\u001b[49m\u001b[43m \u001b[49m\u001b[43mscale\u001b[49m\u001b[43m)\u001b[49m\n\u001b[1;32m     77\u001b[0m \u001b[38;5;28;01mwith\u001b[39;00m \u001b[38;5;28mopen\u001b[39m(data_fname, \u001b[38;5;124m'\u001b[39m\u001b[38;5;124mrb\u001b[39m\u001b[38;5;124m'\u001b[39m) \u001b[38;5;28;01mas\u001b[39;00m f:\n\u001b[1;32m     78\u001b[0m     \u001b[38;5;28;01mif\u001b[39;00m \u001b[38;5;28misinstance\u001b[39m(fmt, \u001b[38;5;28mdict\u001b[39m):  \u001b[38;5;66;03m# ASCII, this will be slow :(\u001b[39;00m\n",
      "File \u001b[0;32m/opt/homebrew/lib/python3.10/site-packages/mne/io/brainvision/brainvision.py:472\u001b[0m, in \u001b[0;36m_get_hdr_info\u001b[0;34m(hdr_fname, eog, misc, scale)\u001b[0m\n\u001b[1;32m    470\u001b[0m ahdr_format \u001b[38;5;241m=\u001b[39m (ext \u001b[38;5;241m==\u001b[39m \u001b[38;5;124m'\u001b[39m\u001b[38;5;124m.ahdr\u001b[39m\u001b[38;5;124m'\u001b[39m)\n\u001b[1;32m    471\u001b[0m \u001b[38;5;28;01mif\u001b[39;00m ext \u001b[38;5;129;01mnot\u001b[39;00m \u001b[38;5;129;01min\u001b[39;00m (\u001b[38;5;124m'\u001b[39m\u001b[38;5;124m.vhdr\u001b[39m\u001b[38;5;124m'\u001b[39m, \u001b[38;5;124m'\u001b[39m\u001b[38;5;124m.ahdr\u001b[39m\u001b[38;5;124m'\u001b[39m):\n\u001b[0;32m--> 472\u001b[0m     \u001b[38;5;28;01mraise\u001b[39;00m \u001b[38;5;167;01mIOError\u001b[39;00m(\u001b[38;5;124m\"\u001b[39m\u001b[38;5;124mThe header file must be given to read the data, \u001b[39m\u001b[38;5;124m\"\u001b[39m\n\u001b[1;32m    473\u001b[0m                   \u001b[38;5;124m\"\u001b[39m\u001b[38;5;124mnot a file with extension \u001b[39m\u001b[38;5;124m'\u001b[39m\u001b[38;5;132;01m%s\u001b[39;00m\u001b[38;5;124m'\u001b[39m\u001b[38;5;124m.\u001b[39m\u001b[38;5;124m\"\u001b[39m \u001b[38;5;241m%\u001b[39m ext)\n\u001b[1;32m    475\u001b[0m settings, cfg, cinfostr, info \u001b[38;5;241m=\u001b[39m _aux_hdr_info(hdr_fname)\n\u001b[1;32m    476\u001b[0m info\u001b[38;5;241m.\u001b[39m_unlocked \u001b[38;5;241m=\u001b[39m \u001b[38;5;28;01mTrue\u001b[39;00m\n",
      "\u001b[0;31mOSError\u001b[0m: The header file must be given to read the data, not a file with extension ''."
     ]
    }
   ],
   "source": [
    "#2,4,5,6,7,8,(9) - issue with annotation for (9)\n",
    "list_of_frames = []\n",
    "for file in \"../ds003498-download/sub-01/ses-interictalsleep/ieeg/sub-01_ses-interictalsleep_run-01_channels.tsv\":\n",
    "    data = mne.io.read_raw_brainvision(file)\n",
    "    df = data.to_data_frame()\n",
    "    df.shape\n",
    "    list_of_frames.append(df)\n",
    "dfs = pd.concat(list_of_frames)\n",
    "dfs.head()\n",
    "dfs.shape"
   ]
  },
  {
   "cell_type": "code",
   "execution_count": 9,
   "id": "754860f3",
   "metadata": {},
   "outputs": [
    {
     "name": "stdout",
     "output_type": "stream",
     "text": [
      "Extracting parameters from ../ds003498-download/sub-07/ses-interictalsleep/ieeg/sub-07_ses-interictalsleep_run-01_ieeg.vhdr...\n",
      "Setting channel info structure...\n"
     ]
    },
    {
     "data": {
      "text/plain": [
       "(600000, 65)"
      ]
     },
     "execution_count": 9,
     "metadata": {},
     "output_type": "execute_result"
    },
    {
     "data": {
      "text/html": [
       "<div>\n",
       "<style scoped>\n",
       "    .dataframe tbody tr th:only-of-type {\n",
       "        vertical-align: middle;\n",
       "    }\n",
       "\n",
       "    .dataframe tbody tr th {\n",
       "        vertical-align: top;\n",
       "    }\n",
       "\n",
       "    .dataframe thead th {\n",
       "        text-align: right;\n",
       "    }\n",
       "</style>\n",
       "<table border=\"1\" class=\"dataframe\">\n",
       "  <thead>\n",
       "    <tr style=\"text-align: right;\">\n",
       "      <th></th>\n",
       "      <th>time</th>\n",
       "      <th>AR1</th>\n",
       "      <th>AR2</th>\n",
       "      <th>AR3</th>\n",
       "      <th>AR4</th>\n",
       "      <th>AR5</th>\n",
       "      <th>AR6</th>\n",
       "      <th>AR7</th>\n",
       "      <th>AR8</th>\n",
       "      <th>AL1</th>\n",
       "      <th>...</th>\n",
       "      <th>PHR7</th>\n",
       "      <th>PHR8</th>\n",
       "      <th>PHL1</th>\n",
       "      <th>PHL2</th>\n",
       "      <th>PHL3</th>\n",
       "      <th>PHL4</th>\n",
       "      <th>PHL5</th>\n",
       "      <th>PHL6</th>\n",
       "      <th>PHL7</th>\n",
       "      <th>PHL8</th>\n",
       "    </tr>\n",
       "  </thead>\n",
       "  <tbody>\n",
       "    <tr>\n",
       "      <th>0</th>\n",
       "      <td>0.0000</td>\n",
       "      <td>-43.068481</td>\n",
       "      <td>-1.840396</td>\n",
       "      <td>29.348401</td>\n",
       "      <td>53.876123</td>\n",
       "      <td>37.314944</td>\n",
       "      <td>26.059375</td>\n",
       "      <td>7.561349</td>\n",
       "      <td>-0.219931</td>\n",
       "      <td>45.097495</td>\n",
       "      <td>...</td>\n",
       "      <td>37.690848</td>\n",
       "      <td>35.488895</td>\n",
       "      <td>46.442154</td>\n",
       "      <td>55.972803</td>\n",
       "      <td>63.286188</td>\n",
       "      <td>56.932495</td>\n",
       "      <td>6.207104</td>\n",
       "      <td>18.800394</td>\n",
       "      <td>52.995642</td>\n",
       "      <td>84.668890</td>\n",
       "    </tr>\n",
       "    <tr>\n",
       "      <th>1</th>\n",
       "      <td>0.0005</td>\n",
       "      <td>-89.560645</td>\n",
       "      <td>-3.287599</td>\n",
       "      <td>62.582410</td>\n",
       "      <td>111.212610</td>\n",
       "      <td>75.867224</td>\n",
       "      <td>51.518591</td>\n",
       "      <td>14.920161</td>\n",
       "      <td>-0.700136</td>\n",
       "      <td>90.197992</td>\n",
       "      <td>...</td>\n",
       "      <td>77.761334</td>\n",
       "      <td>73.395978</td>\n",
       "      <td>93.586902</td>\n",
       "      <td>114.206958</td>\n",
       "      <td>129.378284</td>\n",
       "      <td>116.433472</td>\n",
       "      <td>12.668938</td>\n",
       "      <td>37.115402</td>\n",
       "      <td>108.357227</td>\n",
       "      <td>173.363306</td>\n",
       "    </tr>\n",
       "    <tr>\n",
       "      <th>2</th>\n",
       "      <td>0.0010</td>\n",
       "      <td>-78.438885</td>\n",
       "      <td>-2.201703</td>\n",
       "      <td>57.146899</td>\n",
       "      <td>97.608911</td>\n",
       "      <td>66.240326</td>\n",
       "      <td>44.628766</td>\n",
       "      <td>13.003374</td>\n",
       "      <td>-1.153291</td>\n",
       "      <td>76.619904</td>\n",
       "      <td>...</td>\n",
       "      <td>70.833301</td>\n",
       "      <td>65.725879</td>\n",
       "      <td>80.188104</td>\n",
       "      <td>99.345215</td>\n",
       "      <td>112.603687</td>\n",
       "      <td>102.287811</td>\n",
       "      <td>9.989170</td>\n",
       "      <td>30.979156</td>\n",
       "      <td>94.876233</td>\n",
       "      <td>153.152344</td>\n",
       "    </tr>\n",
       "    <tr>\n",
       "      <th>3</th>\n",
       "      <td>0.0015</td>\n",
       "      <td>-82.141827</td>\n",
       "      <td>-0.722338</td>\n",
       "      <td>62.309589</td>\n",
       "      <td>105.856689</td>\n",
       "      <td>72.416272</td>\n",
       "      <td>49.048187</td>\n",
       "      <td>15.840378</td>\n",
       "      <td>-0.061614</td>\n",
       "      <td>81.967365</td>\n",
       "      <td>...</td>\n",
       "      <td>79.598016</td>\n",
       "      <td>71.553491</td>\n",
       "      <td>86.945105</td>\n",
       "      <td>106.505786</td>\n",
       "      <td>122.547034</td>\n",
       "      <td>110.778259</td>\n",
       "      <td>11.651558</td>\n",
       "      <td>34.975677</td>\n",
       "      <td>104.087207</td>\n",
       "      <td>165.521118</td>\n",
       "    </tr>\n",
       "    <tr>\n",
       "      <th>4</th>\n",
       "      <td>0.0020</td>\n",
       "      <td>-77.458063</td>\n",
       "      <td>0.764215</td>\n",
       "      <td>61.035828</td>\n",
       "      <td>102.528711</td>\n",
       "      <td>69.552771</td>\n",
       "      <td>47.273111</td>\n",
       "      <td>16.965442</td>\n",
       "      <td>0.669208</td>\n",
       "      <td>77.912018</td>\n",
       "      <td>...</td>\n",
       "      <td>78.740375</td>\n",
       "      <td>71.512238</td>\n",
       "      <td>84.751715</td>\n",
       "      <td>103.640735</td>\n",
       "      <td>119.366052</td>\n",
       "      <td>106.940332</td>\n",
       "      <td>13.318614</td>\n",
       "      <td>35.395099</td>\n",
       "      <td>101.174219</td>\n",
       "      <td>159.842395</td>\n",
       "    </tr>\n",
       "  </tbody>\n",
       "</table>\n",
       "<p>5 rows × 65 columns</p>\n",
       "</div>"
      ],
      "text/plain": [
       "     time        AR1       AR2        AR3         AR4        AR5        AR6  \\\n",
       "0  0.0000 -43.068481 -1.840396  29.348401   53.876123  37.314944  26.059375   \n",
       "1  0.0005 -89.560645 -3.287599  62.582410  111.212610  75.867224  51.518591   \n",
       "2  0.0010 -78.438885 -2.201703  57.146899   97.608911  66.240326  44.628766   \n",
       "3  0.0015 -82.141827 -0.722338  62.309589  105.856689  72.416272  49.048187   \n",
       "4  0.0020 -77.458063  0.764215  61.035828  102.528711  69.552771  47.273111   \n",
       "\n",
       "         AR7       AR8        AL1  ...       PHR7       PHR8       PHL1  \\\n",
       "0   7.561349 -0.219931  45.097495  ...  37.690848  35.488895  46.442154   \n",
       "1  14.920161 -0.700136  90.197992  ...  77.761334  73.395978  93.586902   \n",
       "2  13.003374 -1.153291  76.619904  ...  70.833301  65.725879  80.188104   \n",
       "3  15.840378 -0.061614  81.967365  ...  79.598016  71.553491  86.945105   \n",
       "4  16.965442  0.669208  77.912018  ...  78.740375  71.512238  84.751715   \n",
       "\n",
       "         PHL2        PHL3        PHL4       PHL5       PHL6        PHL7  \\\n",
       "0   55.972803   63.286188   56.932495   6.207104  18.800394   52.995642   \n",
       "1  114.206958  129.378284  116.433472  12.668938  37.115402  108.357227   \n",
       "2   99.345215  112.603687  102.287811   9.989170  30.979156   94.876233   \n",
       "3  106.505786  122.547034  110.778259  11.651558  34.975677  104.087207   \n",
       "4  103.640735  119.366052  106.940332  13.318614  35.395099  101.174219   \n",
       "\n",
       "         PHL8  \n",
       "0   84.668890  \n",
       "1  173.363306  \n",
       "2  153.152344  \n",
       "3  165.521118  \n",
       "4  159.842395  \n",
       "\n",
       "[5 rows x 65 columns]"
      ]
     },
     "execution_count": 9,
     "metadata": {},
     "output_type": "execute_result"
    },
    {
     "ename": "AttributeError",
     "evalue": "'DataFrame' object has no attribute 'tolist'",
     "output_type": "error",
     "traceback": [
      "\u001b[0;31m---------------------------------------------------------------------------\u001b[0m",
      "\u001b[0;31mAttributeError\u001b[0m                            Traceback (most recent call last)",
      "Cell \u001b[0;32mIn [9], line 5\u001b[0m\n\u001b[1;32m      3\u001b[0m df\u001b[38;5;241m.\u001b[39mshape\n\u001b[1;32m      4\u001b[0m df\u001b[38;5;241m.\u001b[39mhead()\n\u001b[0;32m----> 5\u001b[0m \u001b[43mdf\u001b[49m\u001b[38;5;241;43m.\u001b[39;49m\u001b[43mtolist\u001b[49m()\n",
      "File \u001b[0;32m/opt/homebrew/lib/python3.10/site-packages/pandas/core/generic.py:5902\u001b[0m, in \u001b[0;36mNDFrame.__getattr__\u001b[0;34m(self, name)\u001b[0m\n\u001b[1;32m   5895\u001b[0m \u001b[38;5;28;01mif\u001b[39;00m (\n\u001b[1;32m   5896\u001b[0m     name \u001b[38;5;129;01mnot\u001b[39;00m \u001b[38;5;129;01min\u001b[39;00m \u001b[38;5;28mself\u001b[39m\u001b[38;5;241m.\u001b[39m_internal_names_set\n\u001b[1;32m   5897\u001b[0m     \u001b[38;5;129;01mand\u001b[39;00m name \u001b[38;5;129;01mnot\u001b[39;00m \u001b[38;5;129;01min\u001b[39;00m \u001b[38;5;28mself\u001b[39m\u001b[38;5;241m.\u001b[39m_metadata\n\u001b[1;32m   5898\u001b[0m     \u001b[38;5;129;01mand\u001b[39;00m name \u001b[38;5;129;01mnot\u001b[39;00m \u001b[38;5;129;01min\u001b[39;00m \u001b[38;5;28mself\u001b[39m\u001b[38;5;241m.\u001b[39m_accessors\n\u001b[1;32m   5899\u001b[0m     \u001b[38;5;129;01mand\u001b[39;00m \u001b[38;5;28mself\u001b[39m\u001b[38;5;241m.\u001b[39m_info_axis\u001b[38;5;241m.\u001b[39m_can_hold_identifiers_and_holds_name(name)\n\u001b[1;32m   5900\u001b[0m ):\n\u001b[1;32m   5901\u001b[0m     \u001b[38;5;28;01mreturn\u001b[39;00m \u001b[38;5;28mself\u001b[39m[name]\n\u001b[0;32m-> 5902\u001b[0m \u001b[38;5;28;01mreturn\u001b[39;00m \u001b[38;5;28;43mobject\u001b[39;49m\u001b[38;5;241;43m.\u001b[39;49m\u001b[38;5;21;43m__getattribute__\u001b[39;49m\u001b[43m(\u001b[49m\u001b[38;5;28;43mself\u001b[39;49m\u001b[43m,\u001b[49m\u001b[43m \u001b[49m\u001b[43mname\u001b[49m\u001b[43m)\u001b[49m\n",
      "\u001b[0;31mAttributeError\u001b[0m: 'DataFrame' object has no attribute 'tolist'"
     ]
    }
   ],
   "source": [
    "data = mne.io.read_raw_brainvision('../ds003498-download/sub-07/ses-interictalsleep/ieeg/sub-07_ses-interictalsleep_run-01_ieeg.vhdr')\n",
    "df = data.to_data_frame()\n",
    "df.shape\n",
    "df.head()\n",
    "df.tolist()"
   ]
  },
  {
   "cell_type": "code",
   "execution_count": 18,
   "id": "dd25632d",
   "metadata": {},
   "outputs": [
    {
     "data": {
      "text/plain": [
       "['time',\n",
       " 'AR1',\n",
       " 'AR2',\n",
       " 'AR3',\n",
       " 'AR4',\n",
       " 'AR5',\n",
       " 'AR6',\n",
       " 'AR7',\n",
       " 'AR8',\n",
       " 'AL1',\n",
       " 'AL2',\n",
       " 'AL3',\n",
       " 'AL4',\n",
       " 'AL5',\n",
       " 'AL6',\n",
       " 'AL7',\n",
       " 'AL8',\n",
       " 'AHR1',\n",
       " 'AHR2',\n",
       " 'AHR3',\n",
       " 'AHR4',\n",
       " 'AHR5',\n",
       " 'AHR6',\n",
       " 'AHR7',\n",
       " 'AHR8',\n",
       " 'AHL1',\n",
       " 'AHL2',\n",
       " 'AHL3',\n",
       " 'AHL4',\n",
       " 'AHL5',\n",
       " 'AHL6',\n",
       " 'AHL7',\n",
       " 'AHL8',\n",
       " 'ECR1',\n",
       " 'ECR2',\n",
       " 'ECR3',\n",
       " 'ECR4',\n",
       " 'ECR5',\n",
       " 'ECR6',\n",
       " 'ECR7',\n",
       " 'ECR8',\n",
       " 'ECL1',\n",
       " 'ECL2',\n",
       " 'ECL3',\n",
       " 'ECL4',\n",
       " 'ECL5',\n",
       " 'ECL6',\n",
       " 'ECL7',\n",
       " 'ECL8',\n",
       " 'PHR1',\n",
       " 'PHR2',\n",
       " 'PHR3',\n",
       " 'PHR4',\n",
       " 'PHR5',\n",
       " 'PHR6',\n",
       " 'PHR7',\n",
       " 'PHR8',\n",
       " 'PHL1',\n",
       " 'PHL2',\n",
       " 'PHL3',\n",
       " 'PHL4',\n",
       " 'PHL5',\n",
       " 'PHL6',\n",
       " 'PHL7',\n",
       " 'PHL8']"
      ]
     },
     "execution_count": 18,
     "metadata": {},
     "output_type": "execute_result"
    },
    {
     "data": {
      "text/plain": [
       "65"
      ]
     },
     "execution_count": 18,
     "metadata": {},
     "output_type": "execute_result"
    },
    {
     "data": {
      "text/plain": [
       "['AR1',\n",
       " 'AR2',\n",
       " 'AR3',\n",
       " 'AR4',\n",
       " 'AR5',\n",
       " 'AR6',\n",
       " 'AR7',\n",
       " 'AR8',\n",
       " 'AL1',\n",
       " 'AL2',\n",
       " 'AL3',\n",
       " 'AL4',\n",
       " 'AL5',\n",
       " 'AL6',\n",
       " 'AL7',\n",
       " 'AL8',\n",
       " 'AHR1',\n",
       " 'AHR2',\n",
       " 'AHR3',\n",
       " 'AHR4',\n",
       " 'AHR5',\n",
       " 'AHR6',\n",
       " 'AHR7',\n",
       " 'AHR8',\n",
       " 'AHL1',\n",
       " 'AHL2',\n",
       " 'AHL3',\n",
       " 'AHL4',\n",
       " 'AHL5',\n",
       " 'AHL6',\n",
       " 'AHL7',\n",
       " 'AHL8',\n",
       " 'ECR1',\n",
       " 'ECR2',\n",
       " 'ECR3',\n",
       " 'ECR4',\n",
       " 'ECR5',\n",
       " 'ECR6',\n",
       " 'ECR7',\n",
       " 'ECR8',\n",
       " 'ECL1',\n",
       " 'ECL2',\n",
       " 'ECL3',\n",
       " 'ECL4',\n",
       " 'ECL5',\n",
       " 'ECL6',\n",
       " 'ECL7',\n",
       " 'ECL8',\n",
       " 'PHR1',\n",
       " 'PHR2',\n",
       " 'PHR3',\n",
       " 'PHR4',\n",
       " 'PHR5',\n",
       " 'PHR6',\n",
       " 'PHR7',\n",
       " 'PHR8',\n",
       " 'PHL1',\n",
       " 'PHL2',\n",
       " 'PHL3',\n",
       " 'PHL4',\n",
       " 'PHL5',\n",
       " 'PHL6',\n",
       " 'PHL7',\n",
       " 'PHL8']"
      ]
     },
     "execution_count": 18,
     "metadata": {},
     "output_type": "execute_result"
    }
   ],
   "source": [
    "electrode_names = list(df.columns)\n",
    "electrode_names\n",
    "len(electrode_names)\n",
    "electrode_names.remove('time')\n",
    "electrode_names\n"
   ]
  },
  {
   "cell_type": "code",
   "execution_count": 19,
   "id": "cc1ec598",
   "metadata": {},
   "outputs": [
    {
     "data": {
      "text/plain": [
       "['AR1',\n",
       " 'AR2',\n",
       " 'AR3',\n",
       " 'AR4',\n",
       " 'AR5',\n",
       " 'AR6',\n",
       " 'AR7',\n",
       " 'AR8',\n",
       " 'AL1',\n",
       " 'AL2',\n",
       " 'AL3',\n",
       " 'AL4',\n",
       " 'AL5',\n",
       " 'AL6',\n",
       " 'AL7',\n",
       " 'AL8',\n",
       " 'AHR1',\n",
       " 'AHR2',\n",
       " 'AHR3',\n",
       " 'AHR4',\n",
       " 'AHR5',\n",
       " 'AHR6',\n",
       " 'AHR7',\n",
       " 'AHR8',\n",
       " 'AHL1',\n",
       " 'AHL2',\n",
       " 'AHL3',\n",
       " 'AHL4',\n",
       " 'AHL5',\n",
       " 'AHL6',\n",
       " 'AHL7',\n",
       " 'AHL8',\n",
       " 'ECR1',\n",
       " 'ECR2',\n",
       " 'ECR3',\n",
       " 'ECR4',\n",
       " 'ECR5',\n",
       " 'ECR6',\n",
       " 'ECR7',\n",
       " 'ECR8',\n",
       " 'ECL1',\n",
       " 'ECL2',\n",
       " 'ECL3',\n",
       " 'ECL4',\n",
       " 'ECL5',\n",
       " 'ECL6',\n",
       " 'ECL7',\n",
       " 'ECL8',\n",
       " 'PHR1',\n",
       " 'PHR2',\n",
       " 'PHR3',\n",
       " 'PHR4',\n",
       " 'PHR5',\n",
       " 'PHR6',\n",
       " 'PHR7',\n",
       " 'PHR8',\n",
       " 'PHL1',\n",
       " 'PHL2',\n",
       " 'PHL3',\n",
       " 'PHL4',\n",
       " 'PHL5',\n",
       " 'PHL6',\n",
       " 'PHL7',\n",
       " 'PHL8']"
      ]
     },
     "execution_count": 19,
     "metadata": {},
     "output_type": "execute_result"
    }
   ],
   "source": [
    "electrode_names"
   ]
  },
  {
   "cell_type": "code",
   "execution_count": null,
   "id": "6edda1f0",
   "metadata": {},
   "outputs": [],
   "source": []
  }
 ],
 "metadata": {
  "kernelspec": {
   "display_name": "Python 3 (ipykernel)",
   "language": "python",
   "name": "python3"
  },
  "language_info": {
   "codemirror_mode": {
    "name": "ipython",
    "version": 3
   },
   "file_extension": ".py",
   "mimetype": "text/x-python",
   "name": "python",
   "nbconvert_exporter": "python",
   "pygments_lexer": "ipython3",
   "version": "3.10.8"
  }
 },
 "nbformat": 4,
 "nbformat_minor": 5
}
